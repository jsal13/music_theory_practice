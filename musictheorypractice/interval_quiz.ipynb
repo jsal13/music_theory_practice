{
 "cells": [
  {
   "cell_type": "code",
   "execution_count": 20,
   "metadata": {},
   "outputs": [],
   "source": [
    "from mingus.core import notes, intervals\n",
    "from mingus.containers import Bar\n",
    "from mingus.extra import lilypond"
   ]
  },
  {
   "cell_type": "code",
   "execution_count": 11,
   "metadata": {},
   "outputs": [],
   "source": [
    "NOTE_VALUES = ['Gb', 'Db', 'Ab', 'Eb', 'Bb', 'F', 'C', 'G', 'D', 'A', 'E', 'B', 'F#', 'C#', 'G#', 'D#', 'A#']\n",
    "\n",
    "INTERVAL_VALUES = [\"major unison\",\n",
    "\"perfect fifth\",\n",
    "\"major second\",\n",
    "\"major sixth\",\n",
    "\"major third\",\n",
    "\"major seventh\",\n",
    "\"augmented fourth\",\n",
    "\"augmented unison\",\n",
    "\"augmented fifth\",\n",
    "\"augmented second\",\n",
    "\"augmented sixth\",\n",
    "\"augmented third\",\n",
    "\"diminished seventh\",\n",
    "\"augmented fourth\",\n",
    "\"augmented unison\",\n",
    "\"augmented fifth\",\n",
    "\"augmented second\"\n",
    "]\n",
    "\n",
    "# for n in NOTE_VALUES: \n",
    "#     print(f'\\\"{intervals.determine(\"Gb\", n)}\\\",')"
   ]
  },
  {
   "cell_type": "code",
   "execution_count": null,
   "metadata": {},
   "outputs": [
    {
     "name": "stdout",
     "output_type": "stream",
     "text": [
      "Executing: lilypond -fpng -o \"thishere\" \"thishere.ly\"\n"
     ]
    },
    {
     "name": "stderr",
     "output_type": "stream",
     "text": [
      "Processing `thishere.ly'\n",
      "Parsing...\n",
      "Interpreting music...\n",
      "Preprocessing graphical objects...\n",
      "Finding the ideal number of pages...\n",
      "Fitting music on 1 page...\n",
      "Drawing systems...\n",
      "Converting to PNG...\n",
      "Success: compilation successfully completed\n"
     ]
    },
    {
     "data": {
      "text/plain": [
       "True"
      ]
     },
     "execution_count": 19,
     "metadata": {},
     "output_type": "execute_result"
    }
   ],
   "source": [
    "bar = Bar()\n",
    "bar + \"C\"\n",
    "bar + \"D\"\n",
    "lily_bar = lilypond.from_Bar(bar)\n",
    "lilypond.to_png(lily_bar, \"thishere.png\")"
   ]
  },
  {
   "cell_type": "code",
   "execution_count": null,
   "metadata": {},
   "outputs": [],
   "source": []
  }
 ],
 "metadata": {
  "kernelspec": {
   "display_name": ".venv",
   "language": "python",
   "name": "python3"
  },
  "language_info": {
   "codemirror_mode": {
    "name": "ipython",
    "version": 3
   },
   "file_extension": ".py",
   "mimetype": "text/x-python",
   "name": "python",
   "nbconvert_exporter": "python",
   "pygments_lexer": "ipython3",
   "version": "3.12.4"
  }
 },
 "nbformat": 4,
 "nbformat_minor": 2
}
