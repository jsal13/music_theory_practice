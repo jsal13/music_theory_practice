{
 "cells": [
  {
   "cell_type": "code",
   "execution_count": 35,
   "metadata": {},
   "outputs": [
    {
     "data": {
      "text/plain": [
       "True"
      ]
     },
     "execution_count": 35,
     "metadata": {},
     "output_type": "execute_result"
    }
   ],
   "source": [
    "import random\n",
    "\n",
    "import attrs\n",
    "from mingus.containers import Bar, Note\n",
    "from mingus.core import progressions\n",
    "from mingus.midi import fluidsynth\n",
    "\n",
    "fluidsynth.init(\"/usr/share/sounds/sf2/TimGM6mb.sf2\")"
   ]
  },
  {
   "cell_type": "code",
   "execution_count": 36,
   "metadata": {},
   "outputs": [],
   "source": [
    "VELOCITY = 127\n",
    "PROGRESSIONS = [\n",
    "    (\"Pop Progression\", [\"I\", \"V\", \"vi\", \"IV\"]),\n",
    "    (\"50s (Doo-Wop) Progression\", [\"I\", \"vi\", \"IV\", \"V\"]),\n",
    "    (\"Andalusian Cadence\", [\"i\", \"bVII\", \"bVI\", \"V\"]),\n",
    "    (\"Modal Progression\", [\"I\", \"bVII\", \"IV\"]),\n",
    "    (\"Modal Progression\", [\"I\", \"bVII\", \"IV\", \"V\"]),\n",
    "    (\"Pop Progression (Altered)\", [\"vi\", \"IV\", \"I\", \"V\"]),\n",
    "    (\"Root Movement Hotline\", [\"I\", \"IV\", \"vii\", \"iii\", \"vi\", \"ii\", \"V\", \"I\"]),\n",
    "    (\"Jazz Progression\", [\"ii7\", \"V7\", \"I7\"]),\n",
    "    (\"Pachelbel Progression\", [\"I\", \"V\", \"vi\", \"iii\", \"IV\", \"I\", \"IV\", \"V\"]),\n",
    "    (\"Royal Roads Progression\", [\"IV\", \"V\", \"iii\", \"vi\"]),\n",
    "    (\"Pop Progressions (Cycled 1)\", [\"V\", \"vi\", \"IV\", \"I\"]),\n",
    "    (\"Melancholic Progression\", [\"I\", \"iii\", \"vi\", \"ii\"]),\n",
    "    (\"Dreamy Progression\", [\"I\", \"IV\", \"vi\", \"V\"]),\n",
    "    (\"Dramatic Progression\", [\"I\", \"bVI\", \"IV\", \"V\"]),\n",
    "    (\"Nostalgic Progression\", [\"I\", \"vi\", \"ii\", \"V\"]),\n",
    "    (\"Uplifting Progression\", [\"I\", \"vIII\", \"bVII\", \"IV\"]),\n",
    "    (\"Gloomy Progression\", [\"i\", \"v\", \"IV\"]),\n",
    "    (\"12 Bar Blues\", [\"I\", \"I\", \"I\", \"I\", \"IV\", \"IV\", \"I\", \"I\", \"V\", \"IV\", \"I\", \"I\"]),\n",
    "    (\n",
    "        \"12 Bar Blues (Alt)\",\n",
    "        [\"I\", \"I\", \"I\", \"I\", \"IV\", \"IV\", \"I\", \"I\", \"V\", \"IV\", \"I\", \"V\"],\n",
    "    ),\n",
    "]\n",
    "\n",
    "\n",
    "@attrs.define()\n",
    "class Progression:\n",
    "    \"\"\"Progression object.\"\"\"\n",
    "\n",
    "    name: str\n",
    "    progression: list[str]\n",
    "    keysig: str\n",
    "    chords: list[str] = attrs.field(init=False)\n",
    "    instrument: int = attrs.field(default=1)  # Piano.\n",
    "    bpm: int = attrs.field(default=40)\n",
    "\n",
    "    def __attrs_post_init__(self) -> None:\n",
    "        _chords = progressions.to_chords(self.progression)\n",
    "        self.chords = [\n",
    "            [Note(note_name, velocity=VELOCITY) for note_name in chord]\n",
    "            for chord in self.to_chords(key=self.keysig)\n",
    "        ]\n",
    "\n",
    "    def to_chords(self, key: str = \"C\") -> list[list[str]]:\n",
    "        \"\"\"Return list of chords (list of str).\"\"\"\n",
    "        return progressions.to_chords(self.progression, key=key)\n",
    "\n",
    "    @classmethod\n",
    "    def get_random(cls) -> \"Progression\":\n",
    "        \"\"\"Generate random Progression object.\"\"\"\n",
    "        name, progression = random.choice(PROGRESSIONS)\n",
    "        keysig = random.choice(\n",
    "            [\"A\", \"Bb\", \"B\", \"C\", \"C#\", \"D\", \"D#\", \"E\", \"F\", \"F#\", \"G\"]\n",
    "        )\n",
    "        return cls(name=name, progression=progression, keysig=keysig)\n",
    "\n",
    "    def play_progression(self) -> None:\n",
    "        \"\"\"Play progression with MIDI.\"\"\"\n",
    "        bar = Bar(key=self.keysig, meter=(4, 4))\n",
    "        for chord in self.chords:\n",
    "            bar + chord\n",
    "\n",
    "        fluidsynth.play_Bar(bar, self.instrument, self.bpm)\n",
    "\n",
    "\n",
    "p = Progression.get_random()"
   ]
  },
  {
   "cell_type": "code",
   "execution_count": 23,
   "metadata": {},
   "outputs": [],
   "source": [
    "p.play_progression()"
   ]
  },
  {
   "cell_type": "code",
   "execution_count": 24,
   "metadata": {},
   "outputs": [
    {
     "data": {
      "text/plain": [
       "{'name': 'Pop Progression (Altered)',\n",
       " 'progression': ['vi', 'IV', 'I', 'V'],\n",
       " 'keysig': 'D',\n",
       " 'chords': [['B-4', 'D-4', 'F#-4'],\n",
       "  ['G-4', 'B-4', 'D-4'],\n",
       "  ['D-4', 'F#-4', 'A-4'],\n",
       "  ['A-4', 'C#-4', 'E-4']],\n",
       " 'instrument': 1,\n",
       " 'bpm': 40}"
      ]
     },
     "execution_count": 24,
     "metadata": {},
     "output_type": "execute_result"
    }
   ],
   "source": [
    "print(p.name, p.progression, p.chords)"
   ]
  },
  {
   "cell_type": "code",
   "execution_count": null,
   "metadata": {},
   "outputs": [],
   "source": []
  }
 ],
 "metadata": {
  "kernelspec": {
   "display_name": ".venv",
   "language": "python",
   "name": "python3"
  },
  "language_info": {
   "codemirror_mode": {
    "name": "ipython",
    "version": 3
   },
   "file_extension": ".py",
   "mimetype": "text/x-python",
   "name": "python",
   "nbconvert_exporter": "python",
   "pygments_lexer": "ipython3",
   "version": "3.12.4"
  }
 },
 "nbformat": 4,
 "nbformat_minor": 2
}
